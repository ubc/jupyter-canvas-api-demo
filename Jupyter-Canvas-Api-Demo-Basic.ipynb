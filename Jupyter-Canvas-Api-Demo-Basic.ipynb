{
 "cells": [
  {
   "cell_type": "markdown",
   "id": "256f8f82",
   "metadata": {
    "tags": []
   },
   "source": [
    "# The Jupyter User Storage API Examples (dsci-100)"
   ]
  },
  {
   "cell_type": "markdown",
   "id": "837cbbe4",
   "metadata": {},
   "source": [
    "## List student snapshots"
   ]
  },
  {
   "cell_type": "markdown",
   "id": "72f360c1",
   "metadata": {},
   "source": [
    "#### Please Update the Values for the Variables STUDENT_ID, SNAPSHOT_NAME, to meet your search requirements."
   ]
  },
  {
   "cell_type": "markdown",
   "id": "94bdb091",
   "metadata": {},
   "source": [
    "List Snapshots for Student 776095 with API-KEY 1234567 from URL https://api.dsci-100.jupyter.ubc.ca/get_snapshot_list"
   ]
  },
  {
   "cell_type": "code",
   "execution_count": null,
   "id": "8c5354f4",
   "metadata": {},
   "outputs": [],
   "source": [
    "!curl -H \"X-Api-Key: 1234567\" -d \"STUDENT_ID=776095\" https://api.dsci-100.jupyter.ubc.ca/get_snapshot_list"
   ]
  },
  {
   "cell_type": "markdown",
   "id": "9c8d4ed7",
   "metadata": {},
   "source": [
    "## Create a single student snapshot"
   ]
  },
  {
   "cell_type": "markdown",
   "id": "6e194125",
   "metadata": {
    "tags": []
   },
   "source": [
    "Create Snapshot 'assignment-4-snap-1' for Student 776095 with API-KEY 1234567 from URL https://api.dsci-100.jupyter.ubc.ca/snapshot"
   ]
  },
  {
   "cell_type": "markdown",
   "id": "e7f782e6",
   "metadata": {},
   "source": [
    "* The SNAPSHOT_NAME value may need to be updated if it has already been used during the current day!\n",
    "* The naming format for Snapshots is: {STUDENT_ID}\\_{SNAPSHOT_NAME}\\_{SNAPSHOT_DATE}.zip. ( 776095_assignment-4-snap-1_2021-10-18.zip )"
   ]
  },
  {
   "cell_type": "code",
   "execution_count": null,
   "id": "f1cdd2dd",
   "metadata": {
    "scrolled": true
   },
   "outputs": [],
   "source": [
    " !curl -X POST -H \"X-Api-Key: 1234567\" -F \"STUDENT_ID=776095\" -F \"SNAPSHOT_NAME=CTLC-TEST-SNAP\" https://api.dsci-100.jupyter.ubc.ca/snapshot"
   ]
  },
  {
   "cell_type": "markdown",
   "id": "e2108e76",
   "metadata": {},
   "source": [
    "## Create snapshot of all students"
   ]
  },
  {
   "cell_type": "markdown",
   "id": "46951667",
   "metadata": {},
   "source": [
    "Create Snapshot 'assignment-4-all' for All Students with API-KEY 1234567 from URL https://api.dsci-100.jupyter.ubc.ca/snapshot_all"
   ]
  },
  {
   "cell_type": "markdown",
   "id": "d9951081",
   "metadata": {},
   "source": [
    "* The SNAPSHOT_NAME value may need to be updated if it has already been used during the current day!\n",
    "* The naming format for Snapshots is: {STUDENT_ID}_{SNAPSHOT_NAME}_{SNAPSHOT_DATE}.zip. ( 776095_assignment-4-snap-1_2021-10-18.zip )"
   ]
  },
  {
   "cell_type": "code",
   "execution_count": null,
   "id": "932a6294",
   "metadata": {},
   "outputs": [],
   "source": [
    "!curl -X POST -H \"X-Api-Key: 1234567\" -F \"SNAPSHOT_NAME=CTLC-DEMO-all\" https://api.dsci-100.jupyter.ubc.ca/snapshot_all"
   ]
  },
  {
   "cell_type": "markdown",
   "id": "15621081",
   "metadata": {},
   "source": [
    "## List snapshot contents"
   ]
  },
  {
   "cell_type": "markdown",
   "id": "2ff75473",
   "metadata": {},
   "source": [
    "List Snapshot Contents for Snapshot 'assignment-4-snap-1_2021-10-18' from Student 776095 with API-KEY 1234567 from URL https://api.dsci-100.jupyter.ubc.ca/get_snapshot_file_list "
   ]
  },
  {
   "cell_type": "code",
   "execution_count": null,
   "id": "ce476169",
   "metadata": {
    "scrolled": true
   },
   "outputs": [],
   "source": [
    "!curl -H \"X-Api-Key: 1234567\" -F \"STUDENT_ID=776095\" -F \"SNAPSHOT_NAME=assignment-4-snap-1_2021-10-18\" https://api.dsci-100.jupyter.ubc.ca/get_snapshot_file_list"
   ]
  },
  {
   "cell_type": "markdown",
   "id": "603ee822",
   "metadata": {},
   "source": [
    "## Create a directory to store the student snapshot downloads"
   ]
  },
  {
   "cell_type": "markdown",
   "id": "b67e29c4",
   "metadata": {},
   "source": [
    "Create the directories `~/snapshots/dsci-100/` within your Jupyter Hub storage to keep the downloaded Snapshots and Snapshot files. This also helps keep your home directory clean and manageable. "
   ]
  },
  {
   "cell_type": "code",
   "execution_count": null,
   "id": "b6d89d4d",
   "metadata": {},
   "outputs": [],
   "source": [
    "!mkdir -p ~/snapshots/dsci-100/"
   ]
  },
  {
   "cell_type": "markdown",
   "id": "4ff9144f",
   "metadata": {},
   "source": [
    "## Download a zip file of the snapshot and save to the snapshot directory"
   ]
  },
  {
   "cell_type": "markdown",
   "id": "bcbfe255",
   "metadata": {},
   "source": [
    "Change to previosly created directory, remove zip files, and download Zip File of Snapshot 'assignment-4-snap-1_2021-10-18' for Student 776095 with API-KEY 1234567 from URL https://api.dsci-100.jupyter.ubc.ca/get_snapshot_zip\n",
    "\n",
    "* Removed old and unused Zip files to ensure there are no download issues."
   ]
  },
  {
   "cell_type": "code",
   "execution_count": null,
   "id": "0105cb29",
   "metadata": {},
   "outputs": [],
   "source": [
    "!cd ~/snapshots/dsci-100/ && \\\n",
    "rm *.zip || true && \\\n",
    "rm ./get_snapshot_zip || true && \\\n",
    "curl -OJ -H \"X-Api-Key: 1234567\" -F \"STUDENT_ID=776095\" -F \"SNAPSHOT_NAME=assignment-4-snap-1_2021-11-23\" https://api.dsci-100.jupyter.ubc.ca/get_snapshot_zip && \\\n",
    "ls -R ~/snapshots/dsci-100/"
   ]
  },
  {
   "cell_type": "markdown",
   "id": "0ac4dfe7",
   "metadata": {},
   "source": [
    "## Unzip student snapshot"
   ]
  },
  {
   "cell_type": "markdown",
   "id": "6065940a",
   "metadata": {},
   "source": [
    "Change directory to the previosly created download directory, and unzip the Snapshot.\n",
    "* Snapshots are unziped with the directory stucture of ./{STUDENT_ID}/{SNAPSHOT_NAME}_{SNAPSHOT_DATE}/\n",
    "* Snapshot files should be avialble by simply browsing your Jupyter Hub home directory. "
   ]
  },
  {
   "cell_type": "code",
   "execution_count": null,
   "id": "1a2553ce",
   "metadata": {},
   "outputs": [],
   "source": [
    "!cd ~/snapshots/dsci-100/ && \\\n",
    "unzip -o *.zip"
   ]
  },
  {
   "cell_type": "markdown",
   "id": "7aeb6993",
   "metadata": {},
   "source": [
    "Display downloaded file contents."
   ]
  }
 ],
 "metadata": {
  "kernelspec": {
   "display_name": "Python 3 (ipykernel)",
   "language": "python",
   "name": "python3"
  },
  "language_info": {
   "codemirror_mode": {
    "name": "ipython",
    "version": 3
   },
   "file_extension": ".py",
   "mimetype": "text/x-python",
   "name": "python",
   "nbconvert_exporter": "python",
   "pygments_lexer": "ipython3",
   "version": "3.9.7"
  }
 },
 "nbformat": 4,
 "nbformat_minor": 5
}
