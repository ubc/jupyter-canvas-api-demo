{
 "cells": [
  {
   "cell_type": "markdown",
   "id": "94bdb091",
   "metadata": {},
   "source": [
    "List Snapshots for Student 776095 with API-KEY 1234567"
   ]
  },
  {
   "cell_type": "code",
   "execution_count": 1,
   "id": "8c5354f4",
   "metadata": {
    "scrolled": true
   },
   "outputs": [
    {
     "name": "stdout",
     "output_type": "stream",
     "text": [
      "[\"assignment-4-all_2021-10-18\",\"assignment-4-snap-1_2021-10-18\"]\r\n"
     ]
    }
   ],
   "source": [
    "!curl -H \"X-Api-Key: 1234567\" -d \"STUDENT_ID=776095\" https://api.dsci-100.jupyter.ubc.ca/get_snapshot_list"
   ]
  },
  {
   "cell_type": "markdown",
   "id": "6e194125",
   "metadata": {},
   "source": [
    "Create Snapshot assignment-4-snap-1 for Student 776095 with API-KEY 1234567"
   ]
  },
  {
   "cell_type": "code",
   "execution_count": 3,
   "id": "f1cdd2dd",
   "metadata": {},
   "outputs": [
    {
     "name": "stdout",
     "output_type": "stream",
     "text": [
      "{\"error\":\"Already Exists - Snapshot Name Already Exists\",\"message\":\"Already Exists - Student Snapshot Already Exists.\",\"status\":404}\r\n"
     ]
    }
   ],
   "source": [
    " !curl -X POST -H \"X-Api-Key: 1234567\" -F \"STUDENT_ID=776095\" -F \"SNAPSHOT_NAME=assignment-4-snap-1\" https://api.dsci-100.jupyter.ubc.ca/snapshot\n"
   ]
  },
  {
   "cell_type": "markdown",
   "id": "46951667",
   "metadata": {},
   "source": [
    "Create Snapshot assignment-4-all for All Students with API-KEY 1234567"
   ]
  },
  {
   "cell_type": "code",
   "execution_count": 4,
   "id": "932a6294",
   "metadata": {},
   "outputs": [
    {
     "name": "stdout",
     "output_type": "stream",
     "text": [
      "\"Success - Snapshot Created - assignment-4-all_2021-10-19 for All Students\"\r\n"
     ]
    }
   ],
   "source": [
    "!curl -X POST -H \"X-Api-Key: 1234567\" -F \"SNAPSHOT_NAME=assignment-4-all\" https://api.dsci-100.jupyter.ubc.ca/snapshot_all"
   ]
  },
  {
   "cell_type": "markdown",
   "id": "2ff75473",
   "metadata": {},
   "source": [
    "List Snapshot Contents for Snapshot assignment-4-snap-1_2021-10-18 from Student 776095 with API-KEY 1234567"
   ]
  },
  {
   "cell_type": "code",
   "execution_count": 5,
   "id": "ce476169",
   "metadata": {},
   "outputs": [
    {
     "name": "stdout",
     "output_type": "stream",
     "text": [
      "[\"Untitled.ipynb\",\"prog-python-ds-students/README.md\",\"prog-python-ds-students/release/assignment3/assignment3.ipynb\",\"prog-python-ds-students/release/assignment3/test_assignment3.py\",\"prog-python-ds-students/release/assignment3/data/netflix_titles.csv\",\"prog-python-ds-students/release/assignment3/data/netflix2.csv\",\"prog-python-ds-students/release/assignment3/data/astronauts.csv\",\"prog-python-ds-students/release/assignment3/data/gapminder.csv\",\"prog-python-ds-students/release/assignment3/data/netflix1.csv\",\"prog-python-ds-students/release/assignment3/data/netflix3.csv\",\"prog-python-ds-students/release/assignment1/test_assignment1.py\",\"prog-python-ds-students/release/assignment1/marathon_small.csv\",\"prog-python-ds-students/release/assignment1/assignment1.ipynb\",\"prog-python-ds-students/release/assignment1/static/error-message.ai\",\"prog-python-ds-students/release/assignment1/static/saving_jupyter.mp4\",\"prog-python-ds-students/release/assignment1/static/answering_jupyter.mp4\",\"prog-python-ds-students/release/assignment1/static/error-message.png\",\"prog-python-ds-students/release/assignment1/data/spotify.csv\",\"prog-python-ds-students/release/assignment1/data/marathon_small_sorted.csv\",\"prog-python-ds-students/release/assignment1/data/canucks.csv\",\"prog-python-ds-students/release/assignment1/data/marathon_smaller.csv\",\"prog-python-ds-students/release/assignment2/test_assignment2.py\",\"prog-python-ds-students/release/assignment2/assignment2.ipynb\",\"prog-python-ds-students/release/assignment2/data/wine_d.txt\",\"prog-python-ds-students/release/assignment2/data/wine_f.txt\",\"prog-python-ds-students/release/assignment2/data/titanic.csv\",\"prog-python-ds-students/release/assignment2/data/wine_g.xlsx\",\"prog-python-ds-students/release/assignment2/data/wine_b.csv\",\"prog-python-ds-students/release/assignment2/data/wine_e.csv\",\"prog-python-ds-students/release/assignment2/data/street-trees.csv\",\"prog-python-ds-students/release/assignment2/data/wine_a.csv\",\"prog-python-ds-students/release/assignment2/data/wine_h.xlsx\",\"prog-python-ds-students/release/assignment2/data/wine_c.csv\"]\r\n"
     ]
    }
   ],
   "source": [
    "!curl -H \"X-Api-Key: 1234567\" -F \"STUDENT_ID=776095\" -F \"SNAPSHOT_NAME=assignment-4-snap-1_2021-10-18\" https://api.dsci-100.jupyter.ubc.ca/get_snapshot_file_list\n"
   ]
  },
  {
   "cell_type": "markdown",
   "id": "834e9039",
   "metadata": {},
   "source": []
  },
  {
   "cell_type": "code",
   "execution_count": 9,
   "id": "5c4cc68c",
   "metadata": {},
   "outputs": [],
   "source": [
    "!echo \"Some File Contents\" > report.txt"
   ]
  },
  {
   "cell_type": "code",
   "execution_count": 11,
   "id": "d9b60397",
   "metadata": {},
   "outputs": [
    {
     "name": "stdout",
     "output_type": "stream",
     "text": [
      "Some File Contents\r\n"
     ]
    }
   ],
   "source": [
    "!cat report.txt"
   ]
  },
  {
   "cell_type": "code",
   "execution_count": 25,
   "id": "94a4eb7a",
   "metadata": {},
   "outputs": [
    {
     "name": "stdout",
     "output_type": "stream",
     "text": [
      "1010321\n",
      "1010321\n"
     ]
    }
   ],
   "source": [
    "variable=1010321\n",
    "print(str(variable))\n",
    "!echo $variable"
   ]
  },
  {
   "cell_type": "code",
   "execution_count": 26,
   "id": "da9b7452",
   "metadata": {},
   "outputs": [
    {
     "name": "stdout",
     "output_type": "stream",
     "text": [
      "1010321\r\n"
     ]
    }
   ],
   "source": [
    "!echo $variable"
   ]
  },
  {
   "cell_type": "code",
   "execution_count": 21,
   "id": "15df0703",
   "metadata": {},
   "outputs": [
    {
     "name": "stdout",
     "output_type": "stream",
     "text": [
      "SHELL=/bin/bash\r\n",
      "KUBERNETES_SERVICE_PORT_HTTPS=443\r\n",
      "JHUB_LB_PORT_443_TCP_ADDR=172.20.171.33\r\n",
      "JUPYTERHUB_ADMIN_ACCESS=1\r\n",
      "DSCI100_API_SVC_PORT_5000_TCP_ADDR=172.20.210.75\r\n",
      "KUBERNETES_SERVICE_PORT=443\r\n",
      "SUDO_GID=0\r\n",
      "PROXY_API_SERVICE_HOST=172.20.73.62\r\n",
      "JHUB_LB_PORT_80_TCP_PROTO=tcp\r\n",
      "HOSTNAME=jupyter-776095\r\n",
      "LANGUAGE=en_US.UTF-8\r\n",
      "JUPYTERHUB_API_TOKEN=bfae0201b7f848c3ab8397b152c28648\r\n",
      "PROXY_API_SERVICE_PORT=8001\r\n",
      "JUPYTERHUB_BASE_URL=/jupyter/\r\n",
      "NB_UID=1000\r\n",
      "SUDO_COMMAND=/opt/conda/bin/jupyterhub-singleuser --ip=0.0.0.0 --port=8888\r\n",
      "SUDO_USER=root\r\n",
      "PROXY_PUBLIC_PORT_80_TCP=tcp://172.20.115.246:80\r\n",
      "PROXY_PUBLIC_PORT=tcp://172.20.115.246:443\r\n",
      "PROXY_PUBLIC_SERVICE_PORT_HTTP=80\r\n",
      "JHUB_LB_PORT_80_TCP_PORT=80\r\n",
      "PWD=/home/jovyan\r\n",
      "LOGNAME=jovyan\r\n",
      "MEM_GUARANTEE=1073741824\r\n",
      "JUPYTER_IMAGE=533178462151.dkr.ecr.ca-central-1.amazonaws.com/jupyterhub:single-user-notebookv10\r\n",
      "PROXY_API_PORT_8001_TCP_ADDR=172.20.73.62\r\n",
      "HUB_SERVICE_HOST=172.20.34.97\r\n",
      "DSCI100_API_SVC_SERVICE_PORT=5000\r\n",
      "JHUB_LB_SERVICE_PORT=80\r\n",
      "JUPYTERHUB_SERVER_NAME=\r\n",
      "JHUB_LB_PORT=tcp://172.20.171.33:80\r\n",
      "HOME=/home/jovyan\r\n",
      "LANG=en_US.UTF-8\r\n",
      "KUBERNETES_PORT_443_TCP=tcp://172.20.0.1:443\r\n",
      "HUB_SVC_PORT=tcp://172.20.84.65:8081\r\n",
      "JPY_API_TOKEN=bfae0201b7f848c3ab8397b152c28648\r\n",
      "PROXY_API_PORT_8001_TCP_PORT=8001\r\n",
      "HUB_SERVICE_PORT=8081\r\n",
      "NB_GID=100\r\n",
      "CHOWN_HOME=yes\r\n",
      "JUPYTERHUB_SERVICE_PREFIX=/jupyter/user/776095/\r\n",
      "PYDEVD_USE_FRAME_EVAL=NO\r\n",
      "JUPYTERHUB_OAUTH_CALLBACK_URL=/jupyter/user/776095/oauth_callback\r\n",
      "PROXY_PUBLIC_PORT_443_TCP=tcp://172.20.115.246:443\r\n",
      "CLICOLOR=1\r\n",
      "DSCI100_API_SVC_PORT_5000_TCP=tcp://172.20.210.75:5000\r\n",
      "PROXY_PUBLIC_PORT_443_TCP_PORT=443\r\n",
      "JHUB_LB_PORT_443_TCP_PROTO=tcp\r\n",
      "JHUB_LB_SERVICE_PORT_PORT_2=443\r\n",
      "PROXY_PUBLIC_SERVICE_HOST=172.20.115.246\r\n",
      "JHUB_LB_SERVICE_PORT_PORT_1=80\r\n",
      "PROXY_PUBLIC_PORT_80_TCP_PROTO=tcp\r\n",
      "DSCI100_API_SVC_PORT_5000_TCP_PROTO=tcp\r\n",
      "HUB_PORT=tcp://172.20.34.97:8081\r\n",
      "XDG_CACHE_HOME=/home/jovyan/.cache\r\n",
      "PROXY_PUBLIC_PORT_80_TCP_ADDR=172.20.115.246\r\n",
      "JUPYTER_IMAGE_SPEC=533178462151.dkr.ecr.ca-central-1.amazonaws.com/jupyterhub:single-user-notebookv10\r\n",
      "JPY_PARENT_PID=16\r\n",
      "HUB_SVC_PORT_8081_TCP=tcp://172.20.84.65:8081\r\n",
      "HUB_PORT_8081_TCP=tcp://172.20.34.97:8081\r\n",
      "HUB_SVC_SERVICE_HOST=172.20.84.65\r\n",
      "PYTHONPATH=\r\n",
      "TERM=xterm-color\r\n",
      "DSCI100_API_SVC_SERVICE_HOST=172.20.210.75\r\n",
      "USER=jovyan\r\n",
      "GIT_PAGER=cat\r\n",
      "PROXY_API_PORT=tcp://172.20.73.62:8001\r\n",
      "JHUB_LB_PORT_80_TCP_ADDR=172.20.171.33\r\n",
      "HUB_SVC_PORT_8081_TCP_PORT=8081\r\n",
      "PROXY_PUBLIC_PORT_443_TCP_PROTO=tcp\r\n",
      "JHUB_LB_PORT_443_TCP_PORT=443\r\n",
      "PROXY_PUBLIC_SERVICE_PORT_HTTPS=443\r\n",
      "PROXY_API_PORT_8001_TCP_PROTO=tcp\r\n",
      "SHLVL=0\r\n",
      "PAGER=cat\r\n",
      "CONDA_DIR=/opt/conda\r\n",
      "KUBERNETES_PORT_443_TCP_PROTO=tcp\r\n",
      "JUPYTERHUB_API_URL=http://hub:8081/jupyter/hub/api\r\n",
      "HUB_SVC_SERVICE_PORT=8081\r\n",
      "JUPYTERHUB_CLIENT_ID=jupyterhub-user-776095\r\n",
      "PROXY_PUBLIC_PORT_80_TCP_PORT=80\r\n",
      "KUBERNETES_PORT_443_TCP_ADDR=172.20.0.1\r\n",
      "JUPYTERHUB_HOST=\r\n",
      "MPLBACKEND=module://matplotlib_inline.backend_inline\r\n",
      "PROXY_PUBLIC_PORT_443_TCP_ADDR=172.20.115.246\r\n",
      "JHUB_LB_SERVICE_HOST=172.20.171.33\r\n",
      "JHUB_LB_PORT_443_TCP=tcp://172.20.171.33:443\r\n",
      "HUB_SERVICE_PORT_HUB=8081\r\n",
      "GIT_PYTHON_REFRESH=quiet\r\n",
      "DSCI100_API_SVC_PORT_5000_TCP_PORT=5000\r\n",
      "NB_USER=jovyan\r\n",
      "KUBERNETES_SERVICE_HOST=172.20.0.1\r\n",
      "LC_ALL=en_US.UTF-8\r\n",
      "KUBERNETES_PORT=tcp://172.20.0.1:443\r\n",
      "KUBERNETES_PORT_443_TCP_PORT=443\r\n",
      "PROXY_API_PORT_8001_TCP=tcp://172.20.73.62:8001\r\n",
      "PROXY_PUBLIC_SERVICE_PORT=443\r\n",
      "HUB_PORT_8081_TCP_PORT=8081\r\n",
      "PATH=/opt/conda/bin:/usr/local/sbin:/usr/local/bin:/usr/sbin:/usr/bin:/sbin:/bin\r\n",
      "HUB_PORT_8081_TCP_ADDR=172.20.34.97\r\n",
      "DSCI100_API_SVC_PORT=tcp://172.20.210.75:5000\r\n",
      "HUB_PORT_8081_TCP_PROTO=tcp\r\n",
      "HUB_SVC_PORT_8081_TCP_ADDR=172.20.84.65\r\n",
      "SUDO_UID=0\r\n",
      "JHUB_LB_PORT_80_TCP=tcp://172.20.171.33:80\r\n",
      "JUPYTERHUB_USER=776095\r\n",
      "JUPYTERHUB_ACTIVITY_URL=http://hub:8081/jupyter/hub/api/users/776095/activity\r\n",
      "DEBIAN_FRONTEND=noninteractive\r\n",
      "HUB_SVC_PORT_8081_TCP_PROTO=tcp\r\n",
      "_=/usr/bin/printenv\r\n"
     ]
    }
   ],
   "source": [
    "!printenv"
   ]
  },
  {
   "cell_type": "code",
   "execution_count": null,
   "id": "6509c7c1",
   "metadata": {},
   "outputs": [],
   "source": []
  },
  {
   "cell_type": "code",
   "execution_count": null,
   "id": "f9d2a584",
   "metadata": {},
   "outputs": [],
   "source": []
  },
  {
   "cell_type": "code",
   "execution_count": null,
   "id": "91f3ec5f",
   "metadata": {},
   "outputs": [],
   "source": []
  }
 ],
 "metadata": {
  "kernelspec": {
   "display_name": "Python 3 (ipykernel)",
   "language": "python",
   "name": "python3"
  },
  "language_info": {
   "codemirror_mode": {
    "name": "ipython",
    "version": 3
   },
   "file_extension": ".py",
   "mimetype": "text/x-python",
   "name": "python",
   "nbconvert_exporter": "python",
   "pygments_lexer": "ipython3",
   "version": "3.9.7"
  }
 },
 "nbformat": 4,
 "nbformat_minor": 5
}
