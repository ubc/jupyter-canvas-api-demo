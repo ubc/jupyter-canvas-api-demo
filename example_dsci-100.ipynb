{
 "cells": [
  {
   "cell_type": "markdown",
   "id": "256f8f82",
   "metadata": {},
   "source": [
    "# Jupyter Canvas API Examples (dsci-100)"
   ]
  },
  {
   "cell_type": "markdown",
   "id": "837cbbe4",
   "metadata": {},
   "source": [
    "## List Student Snapshots"
   ]
  },
  {
   "cell_type": "markdown",
   "id": "72f360c1",
   "metadata": {},
   "source": [
    "#### Please Update the Values for the Variables STUDENT_ID, SNAPSHOT_NAME, to meet your search requirements."
   ]
  },
  {
   "cell_type": "markdown",
   "id": "94bdb091",
   "metadata": {},
   "source": [
    "List Snapshots for Student 776095 with API-KEY 1234567 with API-KEY 1234567 from URL https://api.dsci-100.jupyter.ubc.ca/get_snapshot_list"
   ]
  },
  {
   "cell_type": "code",
   "execution_count": 1,
   "id": "8c5354f4",
   "metadata": {
    "scrolled": false
   },
   "outputs": [
    {
     "name": "stdout",
     "output_type": "stream",
     "text": [
      "[\"assignment-4-snap-1_2021-10-19\",\"assignment-4-all_2021-10-18\",\"assignment-4-all_2021-10-19\",\"assignment-4-snap-1_2021-10-18\"]\r\n"
     ]
    }
   ],
   "source": [
    "!curl -H \"X-Api-Key: 1234567\" -d \"STUDENT_ID=776095\" https://api.dsci-100.jupyter.ubc.ca/get_snapshot_list"
   ]
  },
  {
   "cell_type": "markdown",
   "id": "9c8d4ed7",
   "metadata": {},
   "source": [
    "## Create Student Snapshot"
   ]
  },
  {
   "cell_type": "markdown",
   "id": "6e194125",
   "metadata": {},
   "source": [
    "Create Snapshot 'assignment-4-snap-1' for Student 776095 with API-KEY 1234567 from URL https://api.dsci-100.jupyter.ubc.ca/snapshot"
   ]
  },
  {
   "cell_type": "markdown",
   "id": "e7f782e6",
   "metadata": {},
   "source": [
    "* The SNAPSHOT_NAME value may need to be updated if it has already been used during the current day!\n",
    "* The naming format for Snapshots is: {STUDENT_ID}\\_{SNAPSHOT_NAME}\\_{SNAPSHOT_DATE}.zip. ( 776095_assignment-4-snap-1_2021-10-18.zip )"
   ]
  },
  {
   "cell_type": "code",
   "execution_count": 3,
   "id": "f1cdd2dd",
   "metadata": {
    "scrolled": true
   },
   "outputs": [
    {
     "name": "stdout",
     "output_type": "stream",
     "text": [
      "{\"error\":\"Already Exists - Snapshot Name Already Exists\",\"message\":\"Already Exists - Student Snapshot Already Exists.\",\"status\":404}\r\n"
     ]
    }
   ],
   "source": [
    " !curl -X POST -H \"X-Api-Key: 1234567\" -F \"STUDENT_ID=776095\" -F \"SNAPSHOT_NAME=assignment-4-snap-1\" https://api.dsci-100.jupyter.ubc.ca/snapshot"
   ]
  },
  {
   "cell_type": "markdown",
   "id": "e2108e76",
   "metadata": {},
   "source": [
    "## Create Snapshot of ALL Students"
   ]
  },
  {
   "cell_type": "markdown",
   "id": "46951667",
   "metadata": {},
   "source": [
    "Create Snapshot 'assignment-4-all' for All Students with API-KEY 1234567 from URL https://api.dsci-100.jupyter.ubc.ca/snapshot_all"
   ]
  },
  {
   "cell_type": "markdown",
   "id": "d9951081",
   "metadata": {},
   "source": [
    "* The SNAPSHOT_NAME value may need to be updated if it has already been used during the current day!\n",
    "* The naming format for Snapshots is: {STUDENT_ID}_{SNAPSHOT_NAME}_{SNAPSHOT_DATE}.zip. ( 776095_assignment-4-snap-1_2021-10-18.zip )"
   ]
  },
  {
   "cell_type": "code",
   "execution_count": 4,
   "id": "932a6294",
   "metadata": {},
   "outputs": [
    {
     "name": "stdout",
     "output_type": "stream",
     "text": [
      "\"Success - Snapshot Created - assignment-4-all_2021-10-19 for All Students\"\r\n"
     ]
    }
   ],
   "source": [
    "!curl -X POST -H \"X-Api-Key: 1234567\" -F \"SNAPSHOT_NAME=assignment-4-all\" https://api.dsci-100.jupyter.ubc.ca/snapshot_all"
   ]
  },
  {
   "cell_type": "markdown",
   "id": "15621081",
   "metadata": {},
   "source": [
    "## List Snapshot Contents"
   ]
  },
  {
   "cell_type": "markdown",
   "id": "2ff75473",
   "metadata": {},
   "source": [
    "List Snapshot Contents for Snapshot assignment-4-snap-1_2021-10-18 from Student 776095 with API-KEY 1234567 from URL https://api.dsci-100.jupyter.ubc.ca/get_snapshot_file_list "
   ]
  },
  {
   "cell_type": "code",
   "execution_count": 3,
   "id": "ce476169",
   "metadata": {
    "scrolled": true
   },
   "outputs": [
    {
     "name": "stdout",
     "output_type": "stream",
     "text": [
      "[\"Untitled.ipynb\",\"prog-python-ds-students/README.md\",\"prog-python-ds-students/release/assignment3/assignment3.ipynb\",\"prog-python-ds-students/release/assignment3/test_assignment3.py\",\"prog-python-ds-students/release/assignment3/data/netflix_titles.csv\",\"prog-python-ds-students/release/assignment3/data/netflix2.csv\",\"prog-python-ds-students/release/assignment3/data/astronauts.csv\",\"prog-python-ds-students/release/assignment3/data/gapminder.csv\",\"prog-python-ds-students/release/assignment3/data/netflix1.csv\",\"prog-python-ds-students/release/assignment3/data/netflix3.csv\",\"prog-python-ds-students/release/assignment1/test_assignment1.py\",\"prog-python-ds-students/release/assignment1/marathon_small.csv\",\"prog-python-ds-students/release/assignment1/assignment1.ipynb\",\"prog-python-ds-students/release/assignment1/static/error-message.ai\",\"prog-python-ds-students/release/assignment1/static/saving_jupyter.mp4\",\"prog-python-ds-students/release/assignment1/static/answering_jupyter.mp4\",\"prog-python-ds-students/release/assignment1/static/error-message.png\",\"prog-python-ds-students/release/assignment1/data/spotify.csv\",\"prog-python-ds-students/release/assignment1/data/marathon_small_sorted.csv\",\"prog-python-ds-students/release/assignment1/data/canucks.csv\",\"prog-python-ds-students/release/assignment1/data/marathon_smaller.csv\",\"prog-python-ds-students/release/assignment2/test_assignment2.py\",\"prog-python-ds-students/release/assignment2/assignment2.ipynb\",\"prog-python-ds-students/release/assignment2/data/wine_d.txt\",\"prog-python-ds-students/release/assignment2/data/wine_f.txt\",\"prog-python-ds-students/release/assignment2/data/titanic.csv\",\"prog-python-ds-students/release/assignment2/data/wine_g.xlsx\",\"prog-python-ds-students/release/assignment2/data/wine_b.csv\",\"prog-python-ds-students/release/assignment2/data/wine_e.csv\",\"prog-python-ds-students/release/assignment2/data/street-trees.csv\",\"prog-python-ds-students/release/assignment2/data/wine_a.csv\",\"prog-python-ds-students/release/assignment2/data/wine_h.xlsx\",\"prog-python-ds-students/release/assignment2/data/wine_c.csv\"]\r\n"
     ]
    }
   ],
   "source": [
    "!curl -H \"X-Api-Key: 1234567\" -F \"STUDENT_ID=776095\" -F \"SNAPSHOT_NAME=assignment-4-snap-1_2021-10-18\" https://api.dsci-100.jupyter.ubc.ca/get_snapshot_file_list"
   ]
  },
  {
   "cell_type": "markdown",
   "id": "603ee822",
   "metadata": {},
   "source": [
    "## Create a Directory to store Student Snapshot Downloads"
   ]
  },
  {
   "cell_type": "markdown",
   "id": "b67e29c4",
   "metadata": {},
   "source": [
    "Create the directories `~/snapshots/dsci-100/` within your Jupyter Hub storage to keep the downloaded Snapshots and Snapshot files. This also helps keep your home directory clean and manageable. "
   ]
  },
  {
   "cell_type": "code",
   "execution_count": 18,
   "id": "b6d89d4d",
   "metadata": {},
   "outputs": [],
   "source": [
    "!mkdir -p ~/snapshots/dsci-100/"
   ]
  },
  {
   "cell_type": "markdown",
   "id": "4ff9144f",
   "metadata": {},
   "source": [
    "## Download a Zip File of the Snapshot and Save to DSCI-100 Snapshot Save Directory"
   ]
  },
  {
   "cell_type": "markdown",
   "id": "bcbfe255",
   "metadata": {},
   "source": [
    "Download Zip File of Snapshot assignment-4-snap-1_2021-10-18 for Student 776095 with API-KEY 1234567 from URL https://api.dsci-100.jupyter.ubc.ca/get_snapshot_zip\n",
    "\n",
    "* Remove old and unused Zip files to ensure there are no download issues."
   ]
  },
  {
   "cell_type": "code",
   "execution_count": 19,
   "id": "0105cb29",
   "metadata": {},
   "outputs": [
    {
     "name": "stdout",
     "output_type": "stream",
     "text": [
      "  % Total    % Received % Xferd  Average Speed   Time    Time     Time  Current\n",
      "                                 Dload  Upload   Total   Spent    Left  Speed\n",
      "100 24.6M  100 24.6M  100   283  5528k     62  0:00:04  0:00:04 --:--:-- 5529k\n"
     ]
    }
   ],
   "source": [
    "!cd ~/snapshots/dsci-100/ && \\\n",
    "rm *.zip && \\\n",
    "curl -OJ -H \"X-Api-Key: 1234567\" -F \"STUDENT_ID=776095\" -F \"SNAPSHOT_NAME=assignment-4-snap-1_2021-10-18\" https://api.dsci-100.jupyter.ubc.ca/get_snapshot_zip"
   ]
  },
  {
   "cell_type": "markdown",
   "id": "0ac4dfe7",
   "metadata": {},
   "source": [
    "## Unzip Student Snapshot"
   ]
  },
  {
   "cell_type": "markdown",
   "id": "6065940a",
   "metadata": {},
   "source": [
    "Change directory to the previosly created download directory, and unzip the Snapshot.\n",
    "* Snapshots are unziped with the directory stucture of ./{STUDENT_ID}/{SNAPSHOT_NAME}_{SNAPSHOT_DATE}/\n",
    "* Snapshot files should be avialble by simply browsing your Jupyter Hub home directory. "
   ]
  },
  {
   "cell_type": "code",
   "execution_count": 15,
   "id": "1a2553ce",
   "metadata": {},
   "outputs": [
    {
     "name": "stdout",
     "output_type": "stream",
     "text": [
      "Archive:  776095_assignment-4-snap-1_2021-10-18.zip\n",
      "  inflating: 776095/assignment-4-snap-1_2021-10-18/Untitled.ipynb  \n",
      "  inflating: 776095/assignment-4-snap-1_2021-10-18/prog-python-ds-students/README.md  \n",
      "  inflating: 776095/assignment-4-snap-1_2021-10-18/prog-python-ds-students/release/assignment3/assignment3.ipynb  \n",
      "  inflating: 776095/assignment-4-snap-1_2021-10-18/prog-python-ds-students/release/assignment3/test_assignment3.py  \n",
      "  inflating: 776095/assignment-4-snap-1_2021-10-18/prog-python-ds-students/release/assignment3/data/netflix_titles.csv  \n",
      "  inflating: 776095/assignment-4-snap-1_2021-10-18/prog-python-ds-students/release/assignment3/data/netflix2.csv  \n",
      "  inflating: 776095/assignment-4-snap-1_2021-10-18/prog-python-ds-students/release/assignment3/data/astronauts.csv  \n",
      "  inflating: 776095/assignment-4-snap-1_2021-10-18/prog-python-ds-students/release/assignment3/data/gapminder.csv  \n",
      "  inflating: 776095/assignment-4-snap-1_2021-10-18/prog-python-ds-students/release/assignment3/data/netflix1.csv  \n",
      "  inflating: 776095/assignment-4-snap-1_2021-10-18/prog-python-ds-students/release/assignment3/data/netflix3.csv  \n",
      "  inflating: 776095/assignment-4-snap-1_2021-10-18/prog-python-ds-students/release/assignment1/test_assignment1.py  \n",
      "  inflating: 776095/assignment-4-snap-1_2021-10-18/prog-python-ds-students/release/assignment1/marathon_small.csv  \n",
      "  inflating: 776095/assignment-4-snap-1_2021-10-18/prog-python-ds-students/release/assignment1/assignment1.ipynb  \n",
      "  inflating: 776095/assignment-4-snap-1_2021-10-18/prog-python-ds-students/release/assignment1/.DS_Store  \n",
      "  inflating: 776095/assignment-4-snap-1_2021-10-18/prog-python-ds-students/release/assignment1/static/error-message.ai  \n",
      "  inflating: 776095/assignment-4-snap-1_2021-10-18/prog-python-ds-students/release/assignment1/static/saving_jupyter.mp4  \n",
      "  inflating: 776095/assignment-4-snap-1_2021-10-18/prog-python-ds-students/release/assignment1/static/answering_jupyter.mp4  \n",
      "  inflating: 776095/assignment-4-snap-1_2021-10-18/prog-python-ds-students/release/assignment1/static/error-message.png  \n",
      "  inflating: 776095/assignment-4-snap-1_2021-10-18/prog-python-ds-students/release/assignment1/data/spotify.csv  \n",
      "  inflating: 776095/assignment-4-snap-1_2021-10-18/prog-python-ds-students/release/assignment1/data/marathon_small_sorted.csv  \n",
      "  inflating: 776095/assignment-4-snap-1_2021-10-18/prog-python-ds-students/release/assignment1/data/canucks.csv  \n",
      "  inflating: 776095/assignment-4-snap-1_2021-10-18/prog-python-ds-students/release/assignment1/data/marathon_smaller.csv  \n",
      "  inflating: 776095/assignment-4-snap-1_2021-10-18/prog-python-ds-students/release/assignment2/.ipynb  \n",
      "  inflating: 776095/assignment-4-snap-1_2021-10-18/prog-python-ds-students/release/assignment2/test_assignment2.py  \n",
      "  inflating: 776095/assignment-4-snap-1_2021-10-18/prog-python-ds-students/release/assignment2/assignment2.ipynb  \n",
      "  inflating: 776095/assignment-4-snap-1_2021-10-18/prog-python-ds-students/release/assignment2/data/wine_d.txt  \n",
      "  inflating: 776095/assignment-4-snap-1_2021-10-18/prog-python-ds-students/release/assignment2/data/wine_f.txt  \n",
      "  inflating: 776095/assignment-4-snap-1_2021-10-18/prog-python-ds-students/release/assignment2/data/titanic.csv  \n",
      "  inflating: 776095/assignment-4-snap-1_2021-10-18/prog-python-ds-students/release/assignment2/data/wine_g.xlsx  \n",
      "  inflating: 776095/assignment-4-snap-1_2021-10-18/prog-python-ds-students/release/assignment2/data/wine_b.csv  \n",
      "  inflating: 776095/assignment-4-snap-1_2021-10-18/prog-python-ds-students/release/assignment2/data/wine_e.csv  \n",
      "  inflating: 776095/assignment-4-snap-1_2021-10-18/prog-python-ds-students/release/assignment2/data/street-trees.csv  \n",
      "  inflating: 776095/assignment-4-snap-1_2021-10-18/prog-python-ds-students/release/assignment2/data/wine_a.csv  \n",
      "  inflating: 776095/assignment-4-snap-1_2021-10-18/prog-python-ds-students/release/assignment2/data/wine_h.xlsx  \n",
      "  inflating: 776095/assignment-4-snap-1_2021-10-18/prog-python-ds-students/release/assignment2/data/wine_c.csv  \n"
     ]
    }
   ],
   "source": [
    "!cd ~/snapshots/dsci-100/ && \\\n",
    "unzip -o *.zip"
   ]
  },
  {
   "cell_type": "markdown",
   "id": "baf4daaa",
   "metadata": {},
   "source": [
    "## Download Specific Snapshot File"
   ]
  },
  {
   "cell_type": "markdown",
   "id": "c45cd674",
   "metadata": {},
   "source": [
    "Create a student directory within the previosly created download directory (If Does Not Already Exist) and download a Snapshot file there. "
   ]
  },
  {
   "cell_type": "code",
   "execution_count": 24,
   "id": "abf8ebd6",
   "metadata": {
    "scrolled": true
   },
   "outputs": [
    {
     "name": "stdout",
     "output_type": "stream",
     "text": [
      "  % Total    % Received % Xferd  Average Speed   Time    Time     Time  Current\r\n",
      "                                 Dload  Upload   Total   Spent    Left  Speed\r\n",
      "100   255  100   141  100   114   4317   3490 --:--:-- --:--:-- --:--:--  7968\r\n"
     ]
    }
   ],
   "source": [
    "!mkdir -p ~/snapshots/dsci-100/776095 && \\cd ~/snapshots/dsci-100/776095 && \\\n",
    "curl -OJ -H \"X-Api-Key: 1234567\" -d \"STUDENT_ID=776095\" -d \"SNAPSHOT_NAME=assignment-4-snap-1_2021-10-18\" -d \"SNAPSHOT_FILENAME=prog-python-ds-students/README.md\" https://api.dsci-100.jupyter.ubc.ca/get_snapshot_file"
   ]
  },
  {
   "cell_type": "markdown",
   "id": "7aeb6993",
   "metadata": {},
   "source": [
    "Display downloaded file contents."
   ]
  },
  {
   "cell_type": "code",
   "execution_count": 25,
   "id": "2053bac0",
   "metadata": {},
   "outputs": [
    {
     "name": "stdout",
     "output_type": "stream",
     "text": [
      "# prog-python-ds-students\r\n",
      "Second Students repo for Programming in Python for Data Science  from the Key Capabilities in Data Science program\r\n"
     ]
    }
   ],
   "source": [
    "!cat ~/snapshots/dsci-100/776095/README.md"
   ]
  },
  {
   "cell_type": "markdown",
   "id": "85c97d24",
   "metadata": {},
   "source": [
    "## Upload File to Student's Home Directory"
   ]
  },
  {
   "cell_type": "markdown",
   "id": "54b715f1",
   "metadata": {},
   "source": [
    "Create a file to be uploaded to students home directory and confirm it exists."
   ]
  },
  {
   "cell_type": "code",
   "execution_count": 35,
   "id": "bc0b5be6",
   "metadata": {},
   "outputs": [
    {
     "name": "stdout",
     "output_type": "stream",
     "text": [
      "This is a test file \r\n",
      "It will be uploaded to a students' home directory\r\n"
     ]
    }
   ],
   "source": [
    "!echo -e \"This is a test file \\nIt will be uploaded to a students' home directory\" > ~/test-file-upload.txt\n",
    "!cat ~/test-file-upload.txt"
   ]
  },
  {
   "cell_type": "markdown",
   "id": "03d7eed9",
   "metadata": {},
   "source": [
    "Change to Home Directroy and upload file 'test-file-upload.txt' for Student 776095 with API-KEY 1234567 from URL https://api.dsci-100.jupyter.ubc.ca/put_student_report"
   ]
  },
  {
   "cell_type": "code",
   "execution_count": 41,
   "id": "f130fd6c",
   "metadata": {},
   "outputs": [
    {
     "name": "stdout",
     "output_type": "stream",
     "text": [
      "{\"error\":\"Expectation Failed - Uploaded File Already Exists\",\"message\":\"Expectation Failed - The File Uploaded Already Exists within the Student's Home Directory./mnt/efs/stat-100a-home/776095/test-file-upload.txt\",\"status\":417}\r\n"
     ]
    }
   ],
   "source": [
    "!cd ~/ && \\\n",
    "curl -X POST -H \"X-Api-Key: 1234567\" -F \"STUDENT_ID=776095\" -F \"UPLOAD_FILE=@test-file-upload.txt\" https://api.dsci-100.jupyter.ubc.ca/put_student_report"
   ]
  }
 ],
 "metadata": {
  "kernelspec": {
   "display_name": "Python 3 (ipykernel)",
   "language": "python",
   "name": "python3"
  },
  "language_info": {
   "codemirror_mode": {
    "name": "ipython",
    "version": 3
   },
   "file_extension": ".py",
   "mimetype": "text/x-python",
   "name": "python",
   "nbconvert_exporter": "python",
   "pygments_lexer": "ipython3",
   "version": "3.9.7"
  }
 },
 "nbformat": 4,
 "nbformat_minor": 5
}
